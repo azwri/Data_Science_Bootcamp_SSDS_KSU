{
 "cells": [
  {
   "cell_type": "code",
   "execution_count": 8,
   "metadata": {},
   "outputs": [],
   "source": [
    "import os\n",
    "import pandas as pd\n",
    "import numpy as np\n",
    "import matplotlib.pylab as plt"
   ]
  },
  {
   "cell_type": "markdown",
   "metadata": {},
   "source": [
    "## Gather Data\n",
    "\n",
    "Download the csv file [Source link](https://datasource.kapsarc.org/explore/dataset/saudi-arabia-coronavirus-disease-covid-19-situation/export/?sort=-daily_accumulative&dataChart=%3D&disjunctive.daily_accumulative=&flg=ar&disjunctive.city&disjunctive.daily_cumulative&disjunctive.indicator&disjunctive.event&disjunctive.region&disjunctive.city_en&disjunctive.region_en).<br/>\n",
    "* The csv file is more than 19 GB right now, June 2021.<br/>\n",
    "* First download the file and read it by `pandas.read_csv` method and pass argument `;` to `sep` parameter, because they format the csv file by `;`.<br/>\n",
    "* Second use a tricky way to lower the size of CSV file to be about 2 GB:\n",
    "> Save the file by `to_csv` method and pass argument `gzip` extension to `compression` parameter to compress the file and lower the size.<br/>\n",
    "> For memory reason delete the orginal CSV file.<br/>\n",
    "> Read the new file by `pandas.read_csv` method and pass argument `gzip` to `compression` parameter.<br/>"
   ]
  },
  {
   "cell_type": "code",
   "execution_count": null,
   "metadata": {},
   "outputs": [],
   "source": []
  },
  {
   "cell_type": "code",
   "execution_count": 4,
   "metadata": {},
   "outputs": [],
   "source": [
    "# csv_file = pd.read_csv('saudi-arabia-coronavirus-disease-covid-19-situation.csv', sep=';')\n",
    "# csv_file.to_csv('sa-covid-19-v1.csv', compression='gzip')\n",
    "os.remove('saudi-arabia-coronavirus-disease-covid-19-situation.csv')"
   ]
  },
  {
   "cell_type": "code",
   "execution_count": 5,
   "metadata": {},
   "outputs": [],
   "source": [
    "df = pd.read_csv('sa-covid-19-v1.csv', compression='gzip')"
   ]
  },
  {
   "cell_type": "code",
   "execution_count": 6,
   "metadata": {},
   "outputs": [
    {
     "data": {
      "text/html": [
       "<div>\n",
       "<style scoped>\n",
       "    .dataframe tbody tr th:only-of-type {\n",
       "        vertical-align: middle;\n",
       "    }\n",
       "\n",
       "    .dataframe tbody tr th {\n",
       "        vertical-align: top;\n",
       "    }\n",
       "\n",
       "    .dataframe thead th {\n",
       "        text-align: right;\n",
       "    }\n",
       "</style>\n",
       "<table border=\"1\" class=\"dataframe\">\n",
       "  <thead>\n",
       "    <tr style=\"text-align: right;\">\n",
       "      <th></th>\n",
       "      <th>Unnamed: 0</th>\n",
       "      <th>Daily / Cumulative</th>\n",
       "      <th>Indicator</th>\n",
       "      <th>Date</th>\n",
       "      <th>Event</th>\n",
       "      <th>City</th>\n",
       "      <th>Region</th>\n",
       "      <th>Cases (person)</th>\n",
       "    </tr>\n",
       "  </thead>\n",
       "  <tbody>\n",
       "    <tr>\n",
       "      <th>0</th>\n",
       "      <td>0</td>\n",
       "      <td>Daily</td>\n",
       "      <td>Recoveries</td>\n",
       "      <td>2021-06-12</td>\n",
       "      <td>NaN</td>\n",
       "      <td>Total</td>\n",
       "      <td>Total</td>\n",
       "      <td>1133</td>\n",
       "    </tr>\n",
       "    <tr>\n",
       "      <th>1</th>\n",
       "      <td>1</td>\n",
       "      <td>Daily</td>\n",
       "      <td>Recoveries</td>\n",
       "      <td>2021-06-15</td>\n",
       "      <td>NaN</td>\n",
       "      <td>Total</td>\n",
       "      <td>Total</td>\n",
       "      <td>932</td>\n",
       "    </tr>\n",
       "    <tr>\n",
       "      <th>2</th>\n",
       "      <td>2</td>\n",
       "      <td>Cumulative</td>\n",
       "      <td>Recoveries</td>\n",
       "      <td>2020-03-13</td>\n",
       "      <td>NaN</td>\n",
       "      <td>Al Qatif</td>\n",
       "      <td>Eastern Region</td>\n",
       "      <td>1</td>\n",
       "    </tr>\n",
       "    <tr>\n",
       "      <th>3</th>\n",
       "      <td>3</td>\n",
       "      <td>Cumulative</td>\n",
       "      <td>Recoveries</td>\n",
       "      <td>2020-03-16</td>\n",
       "      <td>NaN</td>\n",
       "      <td>Ad Dammam</td>\n",
       "      <td>Eastern Region</td>\n",
       "      <td>1</td>\n",
       "    </tr>\n",
       "    <tr>\n",
       "      <th>4</th>\n",
       "      <td>4</td>\n",
       "      <td>Cumulative</td>\n",
       "      <td>Recoveries</td>\n",
       "      <td>2020-03-19</td>\n",
       "      <td>NaN</td>\n",
       "      <td>Ad Dammam</td>\n",
       "      <td>Eastern Region</td>\n",
       "      <td>3</td>\n",
       "    </tr>\n",
       "  </tbody>\n",
       "</table>\n",
       "</div>"
      ],
      "text/plain": [
       "   Unnamed: 0 Daily / Cumulative   Indicator        Date Event       City  \\\n",
       "0           0              Daily  Recoveries  2021-06-12   NaN      Total   \n",
       "1           1              Daily  Recoveries  2021-06-15   NaN      Total   \n",
       "2           2         Cumulative  Recoveries  2020-03-13   NaN   Al Qatif   \n",
       "3           3         Cumulative  Recoveries  2020-03-16   NaN  Ad Dammam   \n",
       "4           4         Cumulative  Recoveries  2020-03-19   NaN  Ad Dammam   \n",
       "\n",
       "           Region  Cases (person)  \n",
       "0           Total            1133  \n",
       "1           Total             932  \n",
       "2  Eastern Region               1  \n",
       "3  Eastern Region               1  \n",
       "4  Eastern Region               3  "
      ]
     },
     "execution_count": 6,
     "metadata": {},
     "output_type": "execute_result"
    }
   ],
   "source": [
    "df.head()"
   ]
  }
 ],
 "metadata": {
  "kernelspec": {
   "display_name": "Python 3",
   "language": "python",
   "name": "python3"
  },
  "language_info": {
   "codemirror_mode": {
    "name": "ipython",
    "version": 3
   },
   "file_extension": ".py",
   "mimetype": "text/x-python",
   "name": "python",
   "nbconvert_exporter": "python",
   "pygments_lexer": "ipython3",
   "version": "3.9.1"
  }
 },
 "nbformat": 4,
 "nbformat_minor": 4
}
